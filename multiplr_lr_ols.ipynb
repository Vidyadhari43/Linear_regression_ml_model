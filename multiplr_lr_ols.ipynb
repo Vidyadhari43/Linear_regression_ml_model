{
 "cells": [
  {
   "cell_type": "code",
   "execution_count": 1,
   "metadata": {},
   "outputs": [],
   "source": [
    "import pandas as pd\n",
    "import numpy as np"
   ]
  },
  {
   "cell_type": "markdown",
   "metadata": {},
   "source": [
    "<b>multiple linear regression using ols</b>"
   ]
  },
  {
   "cell_type": "code",
   "execution_count": 2,
   "metadata": {},
   "outputs": [],
   "source": [
    "df=pd.read_csv('multiple_linear_regression.csv')"
   ]
  },
  {
   "cell_type": "code",
   "execution_count": 3,
   "metadata": {},
   "outputs": [
    {
     "data": {
      "text/html": [
       "<div>\n",
       "<style scoped>\n",
       "    .dataframe tbody tr th:only-of-type {\n",
       "        vertical-align: middle;\n",
       "    }\n",
       "\n",
       "    .dataframe tbody tr th {\n",
       "        vertical-align: top;\n",
       "    }\n",
       "\n",
       "    .dataframe thead th {\n",
       "        text-align: right;\n",
       "    }\n",
       "</style>\n",
       "<table border=\"1\" class=\"dataframe\">\n",
       "  <thead>\n",
       "    <tr style=\"text-align: right;\">\n",
       "      <th></th>\n",
       "      <th>Feature 1</th>\n",
       "      <th>Feature 2</th>\n",
       "      <th>Feature 3</th>\n",
       "      <th>Target</th>\n",
       "    </tr>\n",
       "  </thead>\n",
       "  <tbody>\n",
       "    <tr>\n",
       "      <th>0</th>\n",
       "      <td>230.1</td>\n",
       "      <td>37.8</td>\n",
       "      <td>69.2</td>\n",
       "      <td>22.1</td>\n",
       "    </tr>\n",
       "    <tr>\n",
       "      <th>1</th>\n",
       "      <td>44.5</td>\n",
       "      <td>39.3</td>\n",
       "      <td>45.1</td>\n",
       "      <td>10.4</td>\n",
       "    </tr>\n",
       "  </tbody>\n",
       "</table>\n",
       "</div>"
      ],
      "text/plain": [
       "   Feature 1  Feature 2  Feature 3  Target\n",
       "0      230.1       37.8       69.2    22.1\n",
       "1       44.5       39.3       45.1    10.4"
      ]
     },
     "execution_count": 3,
     "metadata": {},
     "output_type": "execute_result"
    }
   ],
   "source": [
    "df.head(2)"
   ]
  },
  {
   "cell_type": "code",
   "execution_count": 9,
   "metadata": {},
   "outputs": [],
   "source": [
    "x=df.loc[:,df.columns!='Target']"
   ]
  },
  {
   "cell_type": "code",
   "execution_count": 10,
   "metadata": {},
   "outputs": [],
   "source": [
    "y=df.loc[:,'Target']"
   ]
  },
  {
   "cell_type": "markdown",
   "metadata": {},
   "source": [
    "<b>craeting data sets for training and testing</b>"
   ]
  },
  {
   "cell_type": "code",
   "execution_count": 7,
   "metadata": {},
   "outputs": [],
   "source": [
    "from sklearn.model_selection import train_test_split\n",
    "#x_train,x_test,y_train,y_test"
   ]
  },
  {
   "cell_type": "code",
   "execution_count": 11,
   "metadata": {},
   "outputs": [],
   "source": [
    "x_train,x_test,y_train,y_test=train_test_split(x,y,test_size=0.30,random_state=43)\n",
    "#considering 30% of data for testing and 70% of data for training"
   ]
  },
  {
   "cell_type": "markdown",
   "metadata": {},
   "source": [
    "we can take any value for random_state. but if ignore that parameter, then the set of train and test data sets changes on each run and output varies on each run"
   ]
  },
  {
   "cell_type": "markdown",
   "metadata": {},
   "source": [
    "so now we aer having f(x)=w1*x1+w2*x2+w3*x3+b <br>\n",
    "we also wanted to know about 'b' parameter whether that parameter makes differnce or not.<br> \n",
    "Basically it should also be considered for T-test and F-test.<br>\n",
    "so we introduce a new const variable c=1 that is f(x)=w1*x1+w2*x2+w3*x3+1*b => f(x)=w1*x1+w2*x2+w3*x3+c*b"
   ]
  },
  {
   "cell_type": "code",
   "execution_count": 6,
   "metadata": {},
   "outputs": [],
   "source": [
    "import statsmodels.api as sm"
   ]
  },
  {
   "cell_type": "code",
   "execution_count": 12,
   "metadata": {},
   "outputs": [],
   "source": [
    "x_train_withconst=sm.add_constant(x_train)"
   ]
  },
  {
   "cell_type": "code",
   "execution_count": 14,
   "metadata": {},
   "outputs": [
    {
     "data": {
      "text/html": [
       "<div>\n",
       "<style scoped>\n",
       "    .dataframe tbody tr th:only-of-type {\n",
       "        vertical-align: middle;\n",
       "    }\n",
       "\n",
       "    .dataframe tbody tr th {\n",
       "        vertical-align: top;\n",
       "    }\n",
       "\n",
       "    .dataframe thead th {\n",
       "        text-align: right;\n",
       "    }\n",
       "</style>\n",
       "<table border=\"1\" class=\"dataframe\">\n",
       "  <thead>\n",
       "    <tr style=\"text-align: right;\">\n",
       "      <th></th>\n",
       "      <th>const</th>\n",
       "      <th>Feature 1</th>\n",
       "      <th>Feature 2</th>\n",
       "      <th>Feature 3</th>\n",
       "    </tr>\n",
       "  </thead>\n",
       "  <tbody>\n",
       "    <tr>\n",
       "      <th>71</th>\n",
       "      <td>1.0</td>\n",
       "      <td>109.8</td>\n",
       "      <td>14.3</td>\n",
       "      <td>31.7</td>\n",
       "    </tr>\n",
       "    <tr>\n",
       "      <th>90</th>\n",
       "      <td>1.0</td>\n",
       "      <td>134.3</td>\n",
       "      <td>4.9</td>\n",
       "      <td>9.3</td>\n",
       "    </tr>\n",
       "  </tbody>\n",
       "</table>\n",
       "</div>"
      ],
      "text/plain": [
       "    const  Feature 1  Feature 2  Feature 3\n",
       "71    1.0      109.8       14.3       31.7\n",
       "90    1.0      134.3        4.9        9.3"
      ]
     },
     "execution_count": 14,
     "metadata": {},
     "output_type": "execute_result"
    }
   ],
   "source": [
    "x_train_withconst.head(2)"
   ]
  },
  {
   "cell_type": "code",
   "execution_count": 15,
   "metadata": {},
   "outputs": [],
   "source": [
    "ols_model=sm.OLS(y_train,x_train_withconst)"
   ]
  },
  {
   "cell_type": "code",
   "execution_count": 16,
   "metadata": {},
   "outputs": [],
   "source": [
    "result=ols_model.fit()"
   ]
  },
  {
   "cell_type": "code",
   "execution_count": 17,
   "metadata": {},
   "outputs": [
    {
     "data": {
      "text/plain": [
       "<statsmodels.regression.linear_model.RegressionResultsWrapper at 0x7f2f264e3b80>"
      ]
     },
     "execution_count": 17,
     "metadata": {},
     "output_type": "execute_result"
    }
   ],
   "source": [
    "result"
   ]
  },
  {
   "cell_type": "code",
   "execution_count": 18,
   "metadata": {},
   "outputs": [
    {
     "data": {
      "text/plain": [
       "const        3.077774\n",
       "Feature 1    0.045978\n",
       "Feature 2    0.180929\n",
       "Feature 3   -0.001942\n",
       "dtype: float64"
      ]
     },
     "execution_count": 18,
     "metadata": {},
     "output_type": "execute_result"
    }
   ],
   "source": [
    "result.params"
   ]
  },
  {
   "cell_type": "code",
   "execution_count": 19,
   "metadata": {},
   "outputs": [
    {
     "data": {
      "text/html": [
       "<table class=\"simpletable\">\n",
       "<caption>OLS Regression Results</caption>\n",
       "<tr>\n",
       "  <th>Dep. Variable:</th>         <td>Target</td>      <th>  R-squared:         </th> <td>   0.884</td>\n",
       "</tr>\n",
       "<tr>\n",
       "  <th>Model:</th>                   <td>OLS</td>       <th>  Adj. R-squared:    </th> <td>   0.882</td>\n",
       "</tr>\n",
       "<tr>\n",
       "  <th>Method:</th>             <td>Least Squares</td>  <th>  F-statistic:       </th> <td>   346.9</td>\n",
       "</tr>\n",
       "<tr>\n",
       "  <th>Date:</th>             <td>Thu, 14 Mar 2024</td> <th>  Prob (F-statistic):</th> <td>1.67e-63</td>\n",
       "</tr>\n",
       "<tr>\n",
       "  <th>Time:</th>                 <td>02:24:36</td>     <th>  Log-Likelihood:    </th> <td> -276.47</td>\n",
       "</tr>\n",
       "<tr>\n",
       "  <th>No. Observations:</th>      <td>   140</td>      <th>  AIC:               </th> <td>   560.9</td>\n",
       "</tr>\n",
       "<tr>\n",
       "  <th>Df Residuals:</th>          <td>   136</td>      <th>  BIC:               </th> <td>   572.7</td>\n",
       "</tr>\n",
       "<tr>\n",
       "  <th>Df Model:</th>              <td>     3</td>      <th>                     </th>     <td> </td>   \n",
       "</tr>\n",
       "<tr>\n",
       "  <th>Covariance Type:</th>      <td>nonrobust</td>    <th>                     </th>     <td> </td>   \n",
       "</tr>\n",
       "</table>\n",
       "<table class=\"simpletable\">\n",
       "<tr>\n",
       "      <td></td>         <th>coef</th>     <th>std err</th>      <th>t</th>      <th>P>|t|</th>  <th>[0.025</th>    <th>0.975]</th>  \n",
       "</tr>\n",
       "<tr>\n",
       "  <th>const</th>     <td>    3.0778</td> <td>    0.398</td> <td>    7.735</td> <td> 0.000</td> <td>    2.291</td> <td>    3.865</td>\n",
       "</tr>\n",
       "<tr>\n",
       "  <th>Feature 1</th> <td>    0.0460</td> <td>    0.002</td> <td>   26.108</td> <td> 0.000</td> <td>    0.042</td> <td>    0.049</td>\n",
       "</tr>\n",
       "<tr>\n",
       "  <th>Feature 2</th> <td>    0.1809</td> <td>    0.010</td> <td>   17.575</td> <td> 0.000</td> <td>    0.161</td> <td>    0.201</td>\n",
       "</tr>\n",
       "<tr>\n",
       "  <th>Feature 3</th> <td>   -0.0019</td> <td>    0.007</td> <td>   -0.280</td> <td> 0.780</td> <td>   -0.016</td> <td>    0.012</td>\n",
       "</tr>\n",
       "</table>\n",
       "<table class=\"simpletable\">\n",
       "<tr>\n",
       "  <th>Omnibus:</th>       <td>51.703</td> <th>  Durbin-Watson:     </th> <td>   2.206</td>\n",
       "</tr>\n",
       "<tr>\n",
       "  <th>Prob(Omnibus):</th> <td> 0.000</td> <th>  Jarque-Bera (JB):  </th> <td> 130.812</td>\n",
       "</tr>\n",
       "<tr>\n",
       "  <th>Skew:</th>          <td>-1.502</td> <th>  Prob(JB):          </th> <td>3.93e-29</td>\n",
       "</tr>\n",
       "<tr>\n",
       "  <th>Kurtosis:</th>      <td> 6.661</td> <th>  Cond. No.          </th> <td>    468.</td>\n",
       "</tr>\n",
       "</table><br/><br/>Notes:<br/>[1] Standard Errors assume that the covariance matrix of the errors is correctly specified."
      ],
      "text/latex": [
       "\\begin{center}\n",
       "\\begin{tabular}{lclc}\n",
       "\\toprule\n",
       "\\textbf{Dep. Variable:}    &      Target      & \\textbf{  R-squared:         } &     0.884   \\\\\n",
       "\\textbf{Model:}            &       OLS        & \\textbf{  Adj. R-squared:    } &     0.882   \\\\\n",
       "\\textbf{Method:}           &  Least Squares   & \\textbf{  F-statistic:       } &     346.9   \\\\\n",
       "\\textbf{Date:}             & Thu, 14 Mar 2024 & \\textbf{  Prob (F-statistic):} &  1.67e-63   \\\\\n",
       "\\textbf{Time:}             &     02:24:36     & \\textbf{  Log-Likelihood:    } &   -276.47   \\\\\n",
       "\\textbf{No. Observations:} &         140      & \\textbf{  AIC:               } &     560.9   \\\\\n",
       "\\textbf{Df Residuals:}     &         136      & \\textbf{  BIC:               } &     572.7   \\\\\n",
       "\\textbf{Df Model:}         &           3      & \\textbf{                     } &             \\\\\n",
       "\\textbf{Covariance Type:}  &    nonrobust     & \\textbf{                     } &             \\\\\n",
       "\\bottomrule\n",
       "\\end{tabular}\n",
       "\\begin{tabular}{lcccccc}\n",
       "                   & \\textbf{coef} & \\textbf{std err} & \\textbf{t} & \\textbf{P$> |$t$|$} & \\textbf{[0.025} & \\textbf{0.975]}  \\\\\n",
       "\\midrule\n",
       "\\textbf{const}     &       3.0778  &        0.398     &     7.735  &         0.000        &        2.291    &        3.865     \\\\\n",
       "\\textbf{Feature 1} &       0.0460  &        0.002     &    26.108  &         0.000        &        0.042    &        0.049     \\\\\n",
       "\\textbf{Feature 2} &       0.1809  &        0.010     &    17.575  &         0.000        &        0.161    &        0.201     \\\\\n",
       "\\textbf{Feature 3} &      -0.0019  &        0.007     &    -0.280  &         0.780        &       -0.016    &        0.012     \\\\\n",
       "\\bottomrule\n",
       "\\end{tabular}\n",
       "\\begin{tabular}{lclc}\n",
       "\\textbf{Omnibus:}       & 51.703 & \\textbf{  Durbin-Watson:     } &    2.206  \\\\\n",
       "\\textbf{Prob(Omnibus):} &  0.000 & \\textbf{  Jarque-Bera (JB):  } &  130.812  \\\\\n",
       "\\textbf{Skew:}          & -1.502 & \\textbf{  Prob(JB):          } & 3.93e-29  \\\\\n",
       "\\textbf{Kurtosis:}      &  6.661 & \\textbf{  Cond. No.          } &     468.  \\\\\n",
       "\\bottomrule\n",
       "\\end{tabular}\n",
       "%\\caption{OLS Regression Results}\n",
       "\\end{center}\n",
       "\n",
       "Notes: \\newline\n",
       " [1] Standard Errors assume that the covariance matrix of the errors is correctly specified."
      ],
      "text/plain": [
       "<class 'statsmodels.iolib.summary.Summary'>\n",
       "\"\"\"\n",
       "                            OLS Regression Results                            \n",
       "==============================================================================\n",
       "Dep. Variable:                 Target   R-squared:                       0.884\n",
       "Model:                            OLS   Adj. R-squared:                  0.882\n",
       "Method:                 Least Squares   F-statistic:                     346.9\n",
       "Date:                Thu, 14 Mar 2024   Prob (F-statistic):           1.67e-63\n",
       "Time:                        02:24:36   Log-Likelihood:                -276.47\n",
       "No. Observations:                 140   AIC:                             560.9\n",
       "Df Residuals:                     136   BIC:                             572.7\n",
       "Df Model:                           3                                         \n",
       "Covariance Type:            nonrobust                                         \n",
       "==============================================================================\n",
       "                 coef    std err          t      P>|t|      [0.025      0.975]\n",
       "------------------------------------------------------------------------------\n",
       "const          3.0778      0.398      7.735      0.000       2.291       3.865\n",
       "Feature 1      0.0460      0.002     26.108      0.000       0.042       0.049\n",
       "Feature 2      0.1809      0.010     17.575      0.000       0.161       0.201\n",
       "Feature 3     -0.0019      0.007     -0.280      0.780      -0.016       0.012\n",
       "==============================================================================\n",
       "Omnibus:                       51.703   Durbin-Watson:                   2.206\n",
       "Prob(Omnibus):                  0.000   Jarque-Bera (JB):              130.812\n",
       "Skew:                          -1.502   Prob(JB):                     3.93e-29\n",
       "Kurtosis:                       6.661   Cond. No.                         468.\n",
       "==============================================================================\n",
       "\n",
       "Notes:\n",
       "[1] Standard Errors assume that the covariance matrix of the errors is correctly specified.\n",
       "\"\"\""
      ]
     },
     "execution_count": 19,
     "metadata": {},
     "output_type": "execute_result"
    }
   ],
   "source": [
    "result.summary()"
   ]
  },
  {
   "cell_type": "markdown",
   "metadata": {},
   "source": [
    "R-squared value is close to 1. Implies for the given data linear rgeression model is working fine <br><br>\n",
    "From the above summary, in F-stats, p-value is < 0.05. Implies to reject null hypothesis and other parameters has contribution to output <br><br>\n",
    "From the T-test, we can see that the value of p for const,feature-1,feature-2 is <0.05.<br>\n",
    "But for Feature-3 it is 0.78. which implies that this parameter has no contribution toward output and <br> we may see performance improvement of the model if we remove that parameter"
   ]
  },
  {
   "cell_type": "code",
   "execution_count": 20,
   "metadata": {},
   "outputs": [],
   "source": [
    "x_test_addconst=sm.add_constant(x_test)"
   ]
  },
  {
   "cell_type": "code",
   "execution_count": 21,
   "metadata": {},
   "outputs": [
    {
     "data": {
      "text/html": [
       "<div>\n",
       "<style scoped>\n",
       "    .dataframe tbody tr th:only-of-type {\n",
       "        vertical-align: middle;\n",
       "    }\n",
       "\n",
       "    .dataframe tbody tr th {\n",
       "        vertical-align: top;\n",
       "    }\n",
       "\n",
       "    .dataframe thead th {\n",
       "        text-align: right;\n",
       "    }\n",
       "</style>\n",
       "<table border=\"1\" class=\"dataframe\">\n",
       "  <thead>\n",
       "    <tr style=\"text-align: right;\">\n",
       "      <th></th>\n",
       "      <th>const</th>\n",
       "      <th>Feature 1</th>\n",
       "      <th>Feature 2</th>\n",
       "      <th>Feature 3</th>\n",
       "    </tr>\n",
       "  </thead>\n",
       "  <tbody>\n",
       "    <tr>\n",
       "      <th>56</th>\n",
       "      <td>1.0</td>\n",
       "      <td>7.3</td>\n",
       "      <td>28.1</td>\n",
       "      <td>41.4</td>\n",
       "    </tr>\n",
       "    <tr>\n",
       "      <th>37</th>\n",
       "      <td>1.0</td>\n",
       "      <td>74.7</td>\n",
       "      <td>49.4</td>\n",
       "      <td>45.7</td>\n",
       "    </tr>\n",
       "  </tbody>\n",
       "</table>\n",
       "</div>"
      ],
      "text/plain": [
       "    const  Feature 1  Feature 2  Feature 3\n",
       "56    1.0        7.3       28.1       41.4\n",
       "37    1.0       74.7       49.4       45.7"
      ]
     },
     "execution_count": 21,
     "metadata": {},
     "output_type": "execute_result"
    }
   ],
   "source": [
    "x_test_addconst.head(2)"
   ]
  },
  {
   "cell_type": "code",
   "execution_count": 22,
   "metadata": {},
   "outputs": [],
   "source": [
    "y_pred=result.predict(x_test_addconst)"
   ]
  },
  {
   "cell_type": "code",
   "execution_count": 26,
   "metadata": {},
   "outputs": [
    {
     "data": {
      "text/plain": [
       "56      8.417101\n",
       "37     15.361461\n",
       "67     12.086193\n",
       "79      9.759531\n",
       "80     11.377992\n",
       "188    18.735263\n",
       "183    23.941584\n",
       "10      7.119317\n",
       "128    22.066062\n",
       "62     16.831729\n",
       "65      7.931159\n",
       "17     23.072438\n",
       "133    19.157298\n",
       "195     5.476775\n",
       "146    15.421023\n",
       "38      9.822057\n",
       "173    12.080236\n",
       "149     9.760949\n",
       "93     21.077177\n",
       "29      9.139450\n",
       "0      20.362058\n",
       "2      12.038627\n",
       "122    13.780821\n",
       "180    10.732255\n",
       "95     16.200615\n",
       "121     7.770427\n",
       "185    20.625121\n",
       "39     20.319663\n",
       "66      8.972660\n",
       "19     14.137462\n",
       "11     17.283814\n",
       "45     15.138272\n",
       "41     17.183768\n",
       "92     19.033746\n",
       "168    17.139522\n",
       "1      12.146705\n",
       "57     12.781595\n",
       "189     6.081355\n",
       "151    10.066350\n",
       "167    13.489216\n",
       "116    12.015498\n",
       "138     9.701073\n",
       "155     5.353987\n",
       "82     10.149662\n",
       "160    14.224196\n",
       "181    14.047809\n",
       "171    14.330535\n",
       "12     10.394657\n",
       "55     21.044180\n",
       "77     13.747035\n",
       "22      6.465117\n",
       "129     7.905508\n",
       "105    17.698666\n",
       "102    17.746682\n",
       "159    12.394989\n",
       "9      12.693458\n",
       "15     20.589467\n",
       "150    18.426901\n",
       "76      4.591456\n",
       "119     6.821298\n",
       "dtype: float64"
      ]
     },
     "execution_count": 26,
     "metadata": {},
     "output_type": "execute_result"
    }
   ],
   "source": [
    "y_pred"
   ]
  },
  {
   "cell_type": "code",
   "execution_count": null,
   "metadata": {},
   "outputs": [],
   "source": []
  }
 ],
 "metadata": {
  "kernelspec": {
   "display_name": "Python 3",
   "language": "python",
   "name": "python3"
  },
  "language_info": {
   "codemirror_mode": {
    "name": "ipython",
    "version": 3
   },
   "file_extension": ".py",
   "mimetype": "text/x-python",
   "name": "python",
   "nbconvert_exporter": "python",
   "pygments_lexer": "ipython3",
   "version": "3.8.10"
  },
  "orig_nbformat": 4
 },
 "nbformat": 4,
 "nbformat_minor": 2
}
